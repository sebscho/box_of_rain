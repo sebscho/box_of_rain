{
 "cells": [
  {
   "cell_type": "code",
   "execution_count": 2,
   "metadata": {
    "collapsed": true
   },
   "outputs": [],
   "source": [
    "from bs4 import BeautifulSoup\n",
    "import bs4 as bs\n",
    "import pandas as pd\n",
    "import urllib3\n",
    "import urllib\n",
    "import numpy as np"
   ]
  },
  {
   "cell_type": "code",
   "execution_count": 3,
   "metadata": {},
   "outputs": [],
   "source": [
    "url = 'https://en.wikipedia.org/wiki/John_Mayall'\n",
    "wikipage = urllib.request.urlopen(url)\n",
    "soup= bs.BeautifulSoup(wikipage, 'html.parser')"
   ]
  },
  {
   "cell_type": "code",
   "execution_count": 4,
   "metadata": {
    "collapsed": true
   },
   "outputs": [],
   "source": [
    "def artists(slug):\n",
    "    '''\n",
    "    slug = str for wiki slug\n",
    "    must be band wiki page\n",
    "    '''\n",
    "    url = \"https://en.wikipedia.org/wiki/\" + slug\n",
    "    wikipage = urllib.request.urlopen(url)\n",
    "    soup = bs.BeautifulSoup(wikipage, 'html.parser')\n",
    "    \n",
    "    ass_artists = []\n",
    "    for a in soup.findAll('div', {'class':'hlist'})[3].find_all('a', title=True): \n",
    "        if a.text: \n",
    "            ass_artists.append(a['title'])\n",
    "    print (soup.title)\n",
    "    print (ass_artists)"
   ]
  },
  {
   "cell_type": "code",
   "execution_count": 7,
   "metadata": {},
   "outputs": [
    {
     "name": "stdout",
     "output_type": "stream",
     "text": [
      "<title>The Yardbirds - Wikipedia</title>\n",
      "['The Jeff Beck Group', 'Cream (band)', 'Led Zeppelin', 'Renaissance (band)', 'Box of Frogs', 'Graham Gouldman']\n"
     ]
    }
   ],
   "source": [
    "slug = \"The_Yardbirds\"\n",
    "artists(slug)"
   ]
  },
  {
   "cell_type": "code",
   "execution_count": null,
   "metadata": {
    "collapsed": true
   },
   "outputs": [],
   "source": []
  },
  {
   "cell_type": "code",
   "execution_count": null,
   "metadata": {
    "collapsed": true
   },
   "outputs": [],
   "source": []
  }
 ],
 "metadata": {
  "kernelspec": {
   "display_name": "Python 3",
   "language": "python",
   "name": "python3"
  },
  "language_info": {
   "codemirror_mode": {
    "name": "ipython",
    "version": 3
   },
   "file_extension": ".py",
   "mimetype": "text/x-python",
   "name": "python",
   "nbconvert_exporter": "python",
   "pygments_lexer": "ipython3",
   "version": "3.6.3"
  }
 },
 "nbformat": 4,
 "nbformat_minor": 2
}
